{
  "nbformat": 4,
  "nbformat_minor": 0,
  "metadata": {
    "colab": {
      "provenance": [],
      "authorship_tag": "ABX9TyMz5Mn6G4g9aCqqmF/F7GKg",
      "include_colab_link": true
    },
    "kernelspec": {
      "name": "python3",
      "display_name": "Python 3"
    },
    "language_info": {
      "name": "python"
    }
  },
  "cells": [
    {
      "cell_type": "markdown",
      "metadata": {
        "id": "view-in-github",
        "colab_type": "text"
      },
      "source": [
        "<a href=\"https://colab.research.google.com/github/Elite24shaikh/CV/blob/main/swap%20program.ipynb\" target=\"_parent\"><img src=\"https://colab.research.google.com/assets/colab-badge.svg\" alt=\"Open In Colab\"/></a>"
      ]
    },
    {
      "cell_type": "code",
      "execution_count": null,
      "metadata": {
        "id": "o054wbSqDTfX"
      },
      "outputs": [],
      "source": [
        "import java.util.*;  \n",
        "class Swap_With {  \n",
        "    public static void main(String[] args) {  \n",
        "       int x, y, t;// x and y are to swap   \n",
        "       Scanner sc = new Scanner(System.in);  \n",
        "       System.out.println(\"Enter the value of X and Y\");  \n",
        "       x = sc.nextInt();  \n",
        "       y = sc.nextInt();  \n",
        "       System.out.println(\"before swapping numbers: \"+x +\"  \"+ y);  \n",
        "       /*swapping */  \n",
        "       t = x;  \n",
        "       x = y;  \n",
        "       y = t;  \n",
        "       System.out.println(\"After swapping: \"+x +\"   \" + y);  \n",
        "       System.out.println( );  \n",
        "    }    \n",
        "}  "
      ]
    },
    {
      "cell_type": "markdown",
      "source": [
        "JAVA SWAP PROGRAM..."
      ],
      "metadata": {
        "id": "kofLu--4thvB"
      }
    },
    {
      "cell_type": "code",
      "source": [],
      "metadata": {
        "id": "ks9JGjAis-bx"
      },
      "execution_count": null,
      "outputs": []
    }
  ]
}