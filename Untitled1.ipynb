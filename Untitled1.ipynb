{
  "nbformat": 4,
  "nbformat_minor": 0,
  "metadata": {
    "colab": {
      "provenance": [],
      "authorship_tag": "ABX9TyMKaveJg8Uy838a2poFwoL/",
      "include_colab_link": true
    },
    "kernelspec": {
      "name": "python3",
      "display_name": "Python 3"
    },
    "language_info": {
      "name": "python"
    }
  },
  "cells": [
    {
      "cell_type": "markdown",
      "metadata": {
        "id": "view-in-github",
        "colab_type": "text"
      },
      "source": [
        "<a href=\"https://colab.research.google.com/github/Elite24shaikh/CV/blob/main/Untitled1.ipynb\" target=\"_parent\"><img src=\"https://colab.research.google.com/assets/colab-badge.svg\" alt=\"Open In Colab\"/></a>"
      ]
    },
    {
      "cell_type": "code",
      "execution_count": null,
      "metadata": {
        "id": "RTGkavQZu6xF"
      },
      "outputs": [],
      "source": [
        "number = int(input(\"Enter the number\"))\n",
        "\n",
        "if number % 2 == 0:\n",
        "    print(number, \"is an even number\")\n",
        "\n",
        "else:\n",
        "    print(number, \"is an odd number\")\n"
      ]
    }
  ]
}